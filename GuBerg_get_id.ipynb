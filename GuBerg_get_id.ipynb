{
 "cells": [
  {
   "cell_type": "code",
   "execution_count": 4,
   "metadata": {},
   "outputs": [],
   "source": [
    "import requests\n",
    "from bs4 import BeautifulSoup\n",
    "import csv"
   ]
  },
  {
   "cell_type": "code",
   "execution_count": null,
   "metadata": {},
   "outputs": [
    {
     "name": "stdout",
     "output_type": "stream",
     "text": [
      "CSV file has been saved to book_ids.csv.\n"
     ]
    }
   ],
   "source": [
    "def fetch_book_ids(base_url):\n",
    "\n",
    "    response = requests.get(base_url)\n",
    "    if response.status_code == 200:\n",
    "        soup = BeautifulSoup(response.text, 'html.parser')\n",
    "        \n",
    "        \n",
    "        book_ids = []\n",
    "        for link in soup.find_all('a', href=True):\n",
    "            href = link['href']            \n",
    "            if '/ebooks/' in href:\n",
    "                book_id = href.split('/')[-1]  \n",
    "                if book_id.isdigit():  \n",
    "                    book_ids.append(book_id)\n",
    "        \n",
    "        return book_ids\n",
    "    else:\n",
    "        print(f\"Failed to fetch page, Status code: {response.status_code}\")\n",
    "        return []\n",
    "\n",
    "def save_to_csv(book_ids, output_csv):\n",
    "    \n",
    "    unique_book_ids = set(book_ids)\n",
    "    with open(output_csv, 'w', newline='', encoding='utf-8') as csvfile:\n",
    "        writer = csv.writer(csvfile)\n",
    "        for book_id in unique_book_ids:\n",
    "            writer.writerow([book_id])  \n",
    "    print(f\"CSV file has been saved to {output_csv}.\")\n",
    "\n",
    "\n",
    "def main(base_url, output_csv):   \n",
    "\n",
    "    book_ids = fetch_book_ids(base_url)\n",
    "    if book_ids:\n",
    "        save_to_csv(book_ids, output_csv)\n",
    "\n",
    "if __name__ == \"__main__\":\n",
    "    base_url = \"https://www.gutenberg.org/browse/languages/zh\"\n",
    "    output_csv = \"book_ids.csv\"\n",
    "    main(base_url, output_csv)\n"
   ]
  }
 ],
 "metadata": {
  "kernelspec": {
   "display_name": "Python 3",
   "language": "python",
   "name": "python3"
  },
  "language_info": {
   "codemirror_mode": {
    "name": "ipython",
    "version": 3
   },
   "file_extension": ".py",
   "mimetype": "text/x-python",
   "name": "python",
   "nbconvert_exporter": "python",
   "pygments_lexer": "ipython3",
   "version": "3.13.0"
  }
 },
 "nbformat": 4,
 "nbformat_minor": 2
}
